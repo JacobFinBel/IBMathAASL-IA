{
 "cells": [
  {
   "cell_type": "code",
   "execution_count": 83,
   "metadata": {},
   "outputs": [],
   "source": [
    "from statsbombpy import sb"
   ]
  },
  {
   "cell_type": "markdown",
   "metadata": {},
   "source": [
    "### Step 1 \n",
    "The command below sorts all of the competitions that Statsbomb has by country name. Then displays it below with the country, gender, division and season. These are used in the next line of code. "
   ]
  },
  {
   "cell_type": "code",
   "execution_count": 84,
   "metadata": {},
   "outputs": [
    {
     "name": "stderr",
     "output_type": "stream",
     "text": [
      "c:\\Users\\Jacob\\AppData\\Local\\Programs\\Python\\Python313\\Lib\\site-packages\\statsbombpy\\api_client.py:21: NoAuthWarning: credentials were not supplied. open data access only\n",
      "  warnings.warn(\n"
     ]
    },
    {
     "data": {
      "text/html": [
       "<div>\n",
       "<style scoped>\n",
       "    .dataframe tbody tr th:only-of-type {\n",
       "        vertical-align: middle;\n",
       "    }\n",
       "\n",
       "    .dataframe tbody tr th {\n",
       "        vertical-align: top;\n",
       "    }\n",
       "\n",
       "    .dataframe thead th {\n",
       "        text-align: right;\n",
       "    }\n",
       "</style>\n",
       "<table border=\"1\" class=\"dataframe\">\n",
       "  <thead>\n",
       "    <tr style=\"text-align: right;\">\n",
       "      <th></th>\n",
       "      <th>competition_id</th>\n",
       "      <th>season_id</th>\n",
       "      <th>country_name</th>\n",
       "      <th>competition_name</th>\n",
       "      <th>competition_gender</th>\n",
       "      <th>competition_youth</th>\n",
       "      <th>competition_international</th>\n",
       "      <th>season_name</th>\n",
       "      <th>match_updated</th>\n",
       "      <th>match_updated_360</th>\n",
       "      <th>match_available_360</th>\n",
       "      <th>match_available</th>\n",
       "    </tr>\n",
       "  </thead>\n",
       "  <tbody>\n",
       "    <tr>\n",
       "      <th>25</th>\n",
       "      <td>37</td>\n",
       "      <td>90</td>\n",
       "      <td>England</td>\n",
       "      <td>FA Women's Super League</td>\n",
       "      <td>female</td>\n",
       "      <td>False</td>\n",
       "      <td>False</td>\n",
       "      <td>2020/2021</td>\n",
       "      <td>2023-02-25T14:52:09.326729</td>\n",
       "      <td>2021-06-13T16:17:31.694</td>\n",
       "      <td>None</td>\n",
       "      <td>2023-02-25T14:52:09.326729</td>\n",
       "    </tr>\n",
       "    <tr>\n",
       "      <th>26</th>\n",
       "      <td>37</td>\n",
       "      <td>42</td>\n",
       "      <td>England</td>\n",
       "      <td>FA Women's Super League</td>\n",
       "      <td>female</td>\n",
       "      <td>False</td>\n",
       "      <td>False</td>\n",
       "      <td>2019/2020</td>\n",
       "      <td>2024-02-12T15:05:34.211400</td>\n",
       "      <td>2021-06-13T16:17:31.694</td>\n",
       "      <td>None</td>\n",
       "      <td>2024-02-12T15:05:34.211400</td>\n",
       "    </tr>\n",
       "    <tr>\n",
       "      <th>27</th>\n",
       "      <td>37</td>\n",
       "      <td>4</td>\n",
       "      <td>England</td>\n",
       "      <td>FA Women's Super League</td>\n",
       "      <td>female</td>\n",
       "      <td>False</td>\n",
       "      <td>False</td>\n",
       "      <td>2018/2019</td>\n",
       "      <td>2024-06-12T07:41:45.347457</td>\n",
       "      <td>2021-06-13T16:17:31.694</td>\n",
       "      <td>None</td>\n",
       "      <td>2024-06-12T07:41:45.347457</td>\n",
       "    </tr>\n",
       "    <tr>\n",
       "      <th>64</th>\n",
       "      <td>2</td>\n",
       "      <td>27</td>\n",
       "      <td>England</td>\n",
       "      <td>Premier League</td>\n",
       "      <td>male</td>\n",
       "      <td>False</td>\n",
       "      <td>False</td>\n",
       "      <td>2015/2016</td>\n",
       "      <td>2024-06-12T07:43:56.243851</td>\n",
       "      <td>2021-06-13T16:17:31.694</td>\n",
       "      <td>None</td>\n",
       "      <td>2024-06-12T07:43:56.243851</td>\n",
       "    </tr>\n",
       "    <tr>\n",
       "      <th>65</th>\n",
       "      <td>2</td>\n",
       "      <td>44</td>\n",
       "      <td>England</td>\n",
       "      <td>Premier League</td>\n",
       "      <td>male</td>\n",
       "      <td>False</td>\n",
       "      <td>False</td>\n",
       "      <td>2003/2004</td>\n",
       "      <td>2024-03-08T14:49:13.195793</td>\n",
       "      <td>2021-06-13T16:17:31.694</td>\n",
       "      <td>None</td>\n",
       "      <td>2024-03-08T14:49:13.195793</td>\n",
       "    </tr>\n",
       "  </tbody>\n",
       "</table>\n",
       "</div>"
      ],
      "text/plain": [
       "    competition_id  season_id country_name         competition_name  \\\n",
       "25              37         90      England  FA Women's Super League   \n",
       "26              37         42      England  FA Women's Super League   \n",
       "27              37          4      England  FA Women's Super League   \n",
       "64               2         27      England           Premier League   \n",
       "65               2         44      England           Premier League   \n",
       "\n",
       "   competition_gender  competition_youth  competition_international  \\\n",
       "25             female              False                      False   \n",
       "26             female              False                      False   \n",
       "27             female              False                      False   \n",
       "64               male              False                      False   \n",
       "65               male              False                      False   \n",
       "\n",
       "   season_name               match_updated        match_updated_360  \\\n",
       "25   2020/2021  2023-02-25T14:52:09.326729  2021-06-13T16:17:31.694   \n",
       "26   2019/2020  2024-02-12T15:05:34.211400  2021-06-13T16:17:31.694   \n",
       "27   2018/2019  2024-06-12T07:41:45.347457  2021-06-13T16:17:31.694   \n",
       "64   2015/2016  2024-06-12T07:43:56.243851  2021-06-13T16:17:31.694   \n",
       "65   2003/2004  2024-03-08T14:49:13.195793  2021-06-13T16:17:31.694   \n",
       "\n",
       "   match_available_360             match_available  \n",
       "25                None  2023-02-25T14:52:09.326729  \n",
       "26                None  2024-02-12T15:05:34.211400  \n",
       "27                None  2024-06-12T07:41:45.347457  \n",
       "64                None  2024-06-12T07:43:56.243851  \n",
       "65                None  2024-03-08T14:49:13.195793  "
      ]
     },
     "execution_count": 84,
     "metadata": {},
     "output_type": "execute_result"
    }
   ],
   "source": [
    "comps = sb.competitions()\n",
    "comps[comps[\"country_name\"] == 'England']"
   ]
  },
  {
   "cell_type": "markdown",
   "metadata": {},
   "source": [
    "### Step 2\n",
    "With the list of competitions above we can write the code below to grab all of the data from that specific season which in our case is the 2015/2016 season. "
   ]
  },
  {
   "cell_type": "code",
   "execution_count": 85,
   "metadata": {},
   "outputs": [
    {
     "name": "stderr",
     "output_type": "stream",
     "text": [
      "c:\\Users\\Jacob\\AppData\\Local\\Programs\\Python\\Python313\\Lib\\site-packages\\statsbombpy\\api_client.py:21: NoAuthWarning: credentials were not supplied. open data access only\n",
      "  warnings.warn(\n"
     ]
    }
   ],
   "source": [
    "events = sb.competition_events(\n",
    "    country=\"England\",\n",
    "    division= \"Premier League\",\n",
    "    season=\"2015/2016\",\n",
    "    gender=\"male\"\n",
    ")\n"
   ]
  },
  {
   "cell_type": "markdown",
   "metadata": {},
   "source": [
    "### Step 3\n",
    "With all of the data from the season we want to filter it down to different points. The first line of code is grabbing all of the events that are considered shots, then it grabs the only the ones for Liverpool. The next two lines of code split apart our x-axis and y-axis locations apart so they can be easily analyzed in excel. The final line of code turns the data into a variable that is named exportdata which was had all of the shots data with columns for location, x, y, the outcome of the shot, statboms xg, and the team name. "
   ]
  },
  {
   "cell_type": "code",
   "execution_count": 86,
   "metadata": {},
   "outputs": [
    {
     "name": "stderr",
     "output_type": "stream",
     "text": [
      "C:\\Users\\Jacob\\AppData\\Local\\Temp\\ipykernel_20516\\1330821043.py:2: PerformanceWarning: DataFrame is highly fragmented.  This is usually the result of calling `frame.insert` many times, which has poor performance.  Consider joining all columns at once using pd.concat(axis=1) instead. To get a de-fragmented frame, use `newframe = frame.copy()`\n",
      "  shots['start_x'] = shots['location'].str[0]\n",
      "C:\\Users\\Jacob\\AppData\\Local\\Temp\\ipykernel_20516\\1330821043.py:2: SettingWithCopyWarning: \n",
      "A value is trying to be set on a copy of a slice from a DataFrame.\n",
      "Try using .loc[row_indexer,col_indexer] = value instead\n",
      "\n",
      "See the caveats in the documentation: https://pandas.pydata.org/pandas-docs/stable/user_guide/indexing.html#returning-a-view-versus-a-copy\n",
      "  shots['start_x'] = shots['location'].str[0]\n",
      "C:\\Users\\Jacob\\AppData\\Local\\Temp\\ipykernel_20516\\1330821043.py:3: PerformanceWarning: DataFrame is highly fragmented.  This is usually the result of calling `frame.insert` many times, which has poor performance.  Consider joining all columns at once using pd.concat(axis=1) instead. To get a de-fragmented frame, use `newframe = frame.copy()`\n",
      "  shots['start_y'] = shots['location'].str[1]\n",
      "C:\\Users\\Jacob\\AppData\\Local\\Temp\\ipykernel_20516\\1330821043.py:3: SettingWithCopyWarning: \n",
      "A value is trying to be set on a copy of a slice from a DataFrame.\n",
      "Try using .loc[row_indexer,col_indexer] = value instead\n",
      "\n",
      "See the caveats in the documentation: https://pandas.pydata.org/pandas-docs/stable/user_guide/indexing.html#returning-a-view-versus-a-copy\n",
      "  shots['start_y'] = shots['location'].str[1]\n"
     ]
    }
   ],
   "source": [
    "shots = events[(events['type'] == 'Shot') & (events['team'] == 'Liverpool')]\n",
    "shots['start_x'] = shots['location'].str[0]\n",
    "shots['start_y'] = shots['location'].str[1]\n",
    "exportdata = shots[['location', 'start_x', 'start_y', 'shot_outcome', 'shot_statsbomb_xg', 'team']]"
   ]
  },
  {
   "cell_type": "markdown",
   "metadata": {},
   "source": [
    "### Step 4\n",
    "After all of that is done we asked the computer to show us the variable to check that everting is correct with our code."
   ]
  },
  {
   "cell_type": "code",
   "execution_count": 87,
   "metadata": {},
   "outputs": [
    {
     "data": {
      "text/html": [
       "<div>\n",
       "<style scoped>\n",
       "    .dataframe tbody tr th:only-of-type {\n",
       "        vertical-align: middle;\n",
       "    }\n",
       "\n",
       "    .dataframe tbody tr th {\n",
       "        vertical-align: top;\n",
       "    }\n",
       "\n",
       "    .dataframe thead th {\n",
       "        text-align: right;\n",
       "    }\n",
       "</style>\n",
       "<table border=\"1\" class=\"dataframe\">\n",
       "  <thead>\n",
       "    <tr style=\"text-align: right;\">\n",
       "      <th></th>\n",
       "      <th>location</th>\n",
       "      <th>start_x</th>\n",
       "      <th>start_y</th>\n",
       "      <th>shot_outcome</th>\n",
       "      <th>shot_statsbomb_xg</th>\n",
       "      <th>team</th>\n",
       "    </tr>\n",
       "  </thead>\n",
       "  <tbody>\n",
       "    <tr>\n",
       "      <th>1146524</th>\n",
       "      <td>[96.0, 24.8]</td>\n",
       "      <td>96.0</td>\n",
       "      <td>24.8</td>\n",
       "      <td>Saved</td>\n",
       "      <td>0.025212</td>\n",
       "      <td>Liverpool</td>\n",
       "    </tr>\n",
       "    <tr>\n",
       "      <th>1146526</th>\n",
       "      <td>[104.9, 31.4]</td>\n",
       "      <td>104.9</td>\n",
       "      <td>31.4</td>\n",
       "      <td>Off T</td>\n",
       "      <td>0.096090</td>\n",
       "      <td>Liverpool</td>\n",
       "    </tr>\n",
       "    <tr>\n",
       "      <th>1146527</th>\n",
       "      <td>[108.1, 31.7]</td>\n",
       "      <td>108.1</td>\n",
       "      <td>31.7</td>\n",
       "      <td>Saved</td>\n",
       "      <td>0.082629</td>\n",
       "      <td>Liverpool</td>\n",
       "    </tr>\n",
       "    <tr>\n",
       "      <th>1146528</th>\n",
       "      <td>[105.9, 41.9]</td>\n",
       "      <td>105.9</td>\n",
       "      <td>41.9</td>\n",
       "      <td>Goal</td>\n",
       "      <td>0.207541</td>\n",
       "      <td>Liverpool</td>\n",
       "    </tr>\n",
       "    <tr>\n",
       "      <th>1146529</th>\n",
       "      <td>[89.3, 47.8]</td>\n",
       "      <td>89.3</td>\n",
       "      <td>47.8</td>\n",
       "      <td>Off T</td>\n",
       "      <td>0.019666</td>\n",
       "      <td>Liverpool</td>\n",
       "    </tr>\n",
       "    <tr>\n",
       "      <th>...</th>\n",
       "      <td>...</td>\n",
       "      <td>...</td>\n",
       "      <td>...</td>\n",
       "      <td>...</td>\n",
       "      <td>...</td>\n",
       "      <td>...</td>\n",
       "    </tr>\n",
       "    <tr>\n",
       "      <th>1156184</th>\n",
       "      <td>[103.4, 47.3]</td>\n",
       "      <td>103.4</td>\n",
       "      <td>47.3</td>\n",
       "      <td>Blocked</td>\n",
       "      <td>0.100556</td>\n",
       "      <td>Liverpool</td>\n",
       "    </tr>\n",
       "    <tr>\n",
       "      <th>1156190</th>\n",
       "      <td>[96.1, 54.5]</td>\n",
       "      <td>96.1</td>\n",
       "      <td>54.5</td>\n",
       "      <td>Off T</td>\n",
       "      <td>0.022818</td>\n",
       "      <td>Liverpool</td>\n",
       "    </tr>\n",
       "    <tr>\n",
       "      <th>1156191</th>\n",
       "      <td>[111.8, 42.0]</td>\n",
       "      <td>111.8</td>\n",
       "      <td>42.0</td>\n",
       "      <td>Saved to Post</td>\n",
       "      <td>0.266588</td>\n",
       "      <td>Liverpool</td>\n",
       "    </tr>\n",
       "    <tr>\n",
       "      <th>1156192</th>\n",
       "      <td>[106.4, 47.2]</td>\n",
       "      <td>106.4</td>\n",
       "      <td>47.2</td>\n",
       "      <td>Off T</td>\n",
       "      <td>0.063110</td>\n",
       "      <td>Liverpool</td>\n",
       "    </tr>\n",
       "    <tr>\n",
       "      <th>1156193</th>\n",
       "      <td>[98.2, 35.1]</td>\n",
       "      <td>98.2</td>\n",
       "      <td>35.1</td>\n",
       "      <td>Off T</td>\n",
       "      <td>0.050807</td>\n",
       "      <td>Liverpool</td>\n",
       "    </tr>\n",
       "  </tbody>\n",
       "</table>\n",
       "<p>635 rows × 6 columns</p>\n",
       "</div>"
      ],
      "text/plain": [
       "              location  start_x  start_y   shot_outcome  shot_statsbomb_xg  \\\n",
       "1146524   [96.0, 24.8]     96.0     24.8          Saved           0.025212   \n",
       "1146526  [104.9, 31.4]    104.9     31.4          Off T           0.096090   \n",
       "1146527  [108.1, 31.7]    108.1     31.7          Saved           0.082629   \n",
       "1146528  [105.9, 41.9]    105.9     41.9           Goal           0.207541   \n",
       "1146529   [89.3, 47.8]     89.3     47.8          Off T           0.019666   \n",
       "...                ...      ...      ...            ...                ...   \n",
       "1156184  [103.4, 47.3]    103.4     47.3        Blocked           0.100556   \n",
       "1156190   [96.1, 54.5]     96.1     54.5          Off T           0.022818   \n",
       "1156191  [111.8, 42.0]    111.8     42.0  Saved to Post           0.266588   \n",
       "1156192  [106.4, 47.2]    106.4     47.2          Off T           0.063110   \n",
       "1156193   [98.2, 35.1]     98.2     35.1          Off T           0.050807   \n",
       "\n",
       "              team  \n",
       "1146524  Liverpool  \n",
       "1146526  Liverpool  \n",
       "1146527  Liverpool  \n",
       "1146528  Liverpool  \n",
       "1146529  Liverpool  \n",
       "...            ...  \n",
       "1156184  Liverpool  \n",
       "1156190  Liverpool  \n",
       "1156191  Liverpool  \n",
       "1156192  Liverpool  \n",
       "1156193  Liverpool  \n",
       "\n",
       "[635 rows x 6 columns]"
      ]
     },
     "execution_count": 87,
     "metadata": {},
     "output_type": "execute_result"
    }
   ],
   "source": [
    "exportdata"
   ]
  },
  {
   "cell_type": "markdown",
   "metadata": {},
   "source": [
    "### Step 5\n",
    "All this line of code does is make the table downloadable so that we can export it into excel."
   ]
  },
  {
   "cell_type": "code",
   "execution_count": 88,
   "metadata": {},
   "outputs": [
    {
     "name": "stderr",
     "output_type": "stream",
     "text": [
      "<>:1: SyntaxWarning: invalid escape sequence '\\L'\n",
      "<>:1: SyntaxWarning: invalid escape sequence '\\L'\n",
      "C:\\Users\\Jacob\\AppData\\Local\\Temp\\ipykernel_20516\\87530081.py:1: SyntaxWarning: invalid escape sequence '\\L'\n",
      "  exportdata.to_csv(\"D:\\Liverpoolshots.csv\")\n"
     ]
    }
   ],
   "source": [
    "exportdata.to_csv(\"D:\\Liverpoolshots.csv\")"
   ]
  }
 ],
 "metadata": {
  "kernelspec": {
   "display_name": "Python 3",
   "language": "python",
   "name": "python3"
  },
  "language_info": {
   "codemirror_mode": {
    "name": "ipython",
    "version": 3
   },
   "file_extension": ".py",
   "mimetype": "text/x-python",
   "name": "python",
   "nbconvert_exporter": "python",
   "pygments_lexer": "ipython3",
   "version": "3.13.0"
  }
 },
 "nbformat": 4,
 "nbformat_minor": 2
}
